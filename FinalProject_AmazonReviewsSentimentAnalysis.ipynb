{
 "cells": [
  {
   "cell_type": "markdown",
   "id": "39c689cc-97d3-4001-b07b-83c98802bf8a",
   "metadata": {},
   "source": [
    "<h1>\n",
    "Amazon Reviews using Sentiment Analysis </h1>"
   ]
  },
  {
   "cell_type": "markdown",
   "id": "75bf2ae0-8dc7-4193-8f28-c99d445a6ea7",
   "metadata": {},
   "source": [
    "## About the dataset\n",
    "* This dataset is from https://www.kaggle.com/datasets/datafiniti/consumer-reviews-of-amazon-products\n",
    "* Dataset describes the Amazon products raings/reviews which are given by customers who bought along with customer and product details"
   ]
  },
  {
   "cell_type": "markdown",
   "id": "67185741-09a1-49cc-af03-77277a889894",
   "metadata": {},
   "source": [
    "# 1. Description "
   ]
  },
  {
   "cell_type": "markdown",
   "id": "7047b03e-2213-4594-baf4-0b92b788f93d",
   "metadata": {},
   "source": [
    "Each record in the dataset shows a single amazon product review. Here, the reviews are continuous which means more high reviewed products have higher product suggestion. reviews.rating show us the product quality, given by the one who has reviewed it on a 5-point scale.\n",
    "* This dataset is based on Amazon branded/Amazon manufactured products only, and Customer satisfaction with Amazon products is the main focus here.\n",
    "* So,The <b>target class</b> is review rating of the products as we want to recommend the products to the similar users based on the rating of product"
   ]
  },
  {
   "cell_type": "code",
   "execution_count": 1,
   "id": "726188c8-db6d-4d6a-980d-52af30e76fdc",
   "metadata": {},
   "outputs": [],
   "source": [
    "import pandas as pd\n",
    "import matplotlib.pyplot as plt\n",
    "import numpy as np\n",
    "import seaborn as sns\n",
    "import math\n",
    "import warnings\n",
    "warnings.filterwarnings('ignore') # Hides warning\n",
    "sns.set_style(\"whitegrid\") # Plotting style\n",
    "%matplotlib inline "
   ]
  },
  {
   "cell_type": "code",
   "execution_count": 2,
   "id": "05bab67b-dab5-4123-83b5-2da1c282bc5a",
   "metadata": {},
   "outputs": [
    {
     "data": {
      "text/html": [
       "<div>\n",
       "<style scoped>\n",
       "    .dataframe tbody tr th:only-of-type {\n",
       "        vertical-align: middle;\n",
       "    }\n",
       "\n",
       "    .dataframe tbody tr th {\n",
       "        vertical-align: top;\n",
       "    }\n",
       "\n",
       "    .dataframe thead th {\n",
       "        text-align: right;\n",
       "    }\n",
       "</style>\n",
       "<table border=\"1\" class=\"dataframe\">\n",
       "  <thead>\n",
       "    <tr style=\"text-align: right;\">\n",
       "      <th></th>\n",
       "      <th>id</th>\n",
       "      <th>name</th>\n",
       "      <th>asins</th>\n",
       "      <th>brand</th>\n",
       "      <th>categories</th>\n",
       "      <th>keys</th>\n",
       "      <th>manufacturer</th>\n",
       "      <th>reviews.date</th>\n",
       "      <th>reviews.dateAdded</th>\n",
       "      <th>reviews.dateSeen</th>\n",
       "      <th>...</th>\n",
       "      <th>reviews.doRecommend</th>\n",
       "      <th>reviews.id</th>\n",
       "      <th>reviews.numHelpful</th>\n",
       "      <th>reviews.rating</th>\n",
       "      <th>reviews.sourceURLs</th>\n",
       "      <th>reviews.text</th>\n",
       "      <th>reviews.title</th>\n",
       "      <th>reviews.userCity</th>\n",
       "      <th>reviews.userProvince</th>\n",
       "      <th>reviews.username</th>\n",
       "    </tr>\n",
       "  </thead>\n",
       "  <tbody>\n",
       "    <tr>\n",
       "      <th>0</th>\n",
       "      <td>AVqkIhwDv8e3D1O-lebb</td>\n",
       "      <td>All-New Fire HD 8 Tablet, 8 HD Display, Wi-Fi,...</td>\n",
       "      <td>B01AHB9CN2</td>\n",
       "      <td>Amazon</td>\n",
       "      <td>Electronics,iPad &amp; Tablets,All Tablets,Fire Ta...</td>\n",
       "      <td>841667104676,amazon/53004484,amazon/b01ahb9cn2...</td>\n",
       "      <td>Amazon</td>\n",
       "      <td>2017-01-13T00:00:00.000Z</td>\n",
       "      <td>2017-07-03T23:33:15Z</td>\n",
       "      <td>2017-06-07T09:04:00.000Z,2017-04-30T00:45:00.000Z</td>\n",
       "      <td>...</td>\n",
       "      <td>True</td>\n",
       "      <td>NaN</td>\n",
       "      <td>0.0</td>\n",
       "      <td>5.0</td>\n",
       "      <td>http://reviews.bestbuy.com/3545/5620406/review...</td>\n",
       "      <td>This product so far has not disappointed. My c...</td>\n",
       "      <td>Kindle</td>\n",
       "      <td>NaN</td>\n",
       "      <td>NaN</td>\n",
       "      <td>Adapter</td>\n",
       "    </tr>\n",
       "    <tr>\n",
       "      <th>1</th>\n",
       "      <td>AVqkIhwDv8e3D1O-lebb</td>\n",
       "      <td>All-New Fire HD 8 Tablet, 8 HD Display, Wi-Fi,...</td>\n",
       "      <td>B01AHB9CN2</td>\n",
       "      <td>Amazon</td>\n",
       "      <td>Electronics,iPad &amp; Tablets,All Tablets,Fire Ta...</td>\n",
       "      <td>841667104676,amazon/53004484,amazon/b01ahb9cn2...</td>\n",
       "      <td>Amazon</td>\n",
       "      <td>2017-01-13T00:00:00.000Z</td>\n",
       "      <td>2017-07-03T23:33:15Z</td>\n",
       "      <td>2017-06-07T09:04:00.000Z,2017-04-30T00:45:00.000Z</td>\n",
       "      <td>...</td>\n",
       "      <td>True</td>\n",
       "      <td>NaN</td>\n",
       "      <td>0.0</td>\n",
       "      <td>5.0</td>\n",
       "      <td>http://reviews.bestbuy.com/3545/5620406/review...</td>\n",
       "      <td>great for beginner or experienced person. Boug...</td>\n",
       "      <td>very fast</td>\n",
       "      <td>NaN</td>\n",
       "      <td>NaN</td>\n",
       "      <td>truman</td>\n",
       "    </tr>\n",
       "  </tbody>\n",
       "</table>\n",
       "<p>2 rows × 21 columns</p>\n",
       "</div>"
      ],
      "text/plain": [
       "                     id                                               name  \\\n",
       "0  AVqkIhwDv8e3D1O-lebb  All-New Fire HD 8 Tablet, 8 HD Display, Wi-Fi,...   \n",
       "1  AVqkIhwDv8e3D1O-lebb  All-New Fire HD 8 Tablet, 8 HD Display, Wi-Fi,...   \n",
       "\n",
       "        asins   brand                                         categories  \\\n",
       "0  B01AHB9CN2  Amazon  Electronics,iPad & Tablets,All Tablets,Fire Ta...   \n",
       "1  B01AHB9CN2  Amazon  Electronics,iPad & Tablets,All Tablets,Fire Ta...   \n",
       "\n",
       "                                                keys manufacturer  \\\n",
       "0  841667104676,amazon/53004484,amazon/b01ahb9cn2...       Amazon   \n",
       "1  841667104676,amazon/53004484,amazon/b01ahb9cn2...       Amazon   \n",
       "\n",
       "               reviews.date     reviews.dateAdded  \\\n",
       "0  2017-01-13T00:00:00.000Z  2017-07-03T23:33:15Z   \n",
       "1  2017-01-13T00:00:00.000Z  2017-07-03T23:33:15Z   \n",
       "\n",
       "                                    reviews.dateSeen  ... reviews.doRecommend  \\\n",
       "0  2017-06-07T09:04:00.000Z,2017-04-30T00:45:00.000Z  ...                True   \n",
       "1  2017-06-07T09:04:00.000Z,2017-04-30T00:45:00.000Z  ...                True   \n",
       "\n",
       "  reviews.id  reviews.numHelpful  reviews.rating  \\\n",
       "0        NaN                 0.0             5.0   \n",
       "1        NaN                 0.0             5.0   \n",
       "\n",
       "                                  reviews.sourceURLs  \\\n",
       "0  http://reviews.bestbuy.com/3545/5620406/review...   \n",
       "1  http://reviews.bestbuy.com/3545/5620406/review...   \n",
       "\n",
       "                                        reviews.text reviews.title  \\\n",
       "0  This product so far has not disappointed. My c...        Kindle   \n",
       "1  great for beginner or experienced person. Boug...     very fast   \n",
       "\n",
       "  reviews.userCity  reviews.userProvince  reviews.username  \n",
       "0              NaN                   NaN           Adapter  \n",
       "1              NaN                   NaN            truman  \n",
       "\n",
       "[2 rows x 21 columns]"
      ]
     },
     "execution_count": 2,
     "metadata": {},
     "output_type": "execute_result"
    }
   ],
   "source": [
    "csv = \"1429_1.csv\"\n",
    "df = pd.read_csv(csv)\n",
    "df.head(2)"
   ]
  },
  {
   "cell_type": "code",
   "execution_count": 3,
   "id": "93869deb-8ca9-4a22-9091-f4e71b6408b0",
   "metadata": {},
   "outputs": [
    {
     "data": {
      "text/plain": [
       "(34660, 21)"
      ]
     },
     "execution_count": 3,
     "metadata": {},
     "output_type": "execute_result"
    }
   ],
   "source": [
    "df.shape"
   ]
  },
  {
   "cell_type": "markdown",
   "id": "3acf90f3-e162-4a5c-ba70-2571aacd2abe",
   "metadata": {},
   "source": [
    "* There are 34660 number of rows and 21 features in the data set."
   ]
  },
  {
   "cell_type": "code",
   "execution_count": 4,
   "id": "07bf0506-78d4-48bd-9aa6-2e6d92d8f548",
   "metadata": {},
   "outputs": [
    {
     "name": "stdout",
     "output_type": "stream",
     "text": [
      "<class 'pandas.core.frame.DataFrame'>\n",
      "RangeIndex: 34660 entries, 0 to 34659\n",
      "Data columns (total 21 columns):\n",
      " #   Column                Non-Null Count  Dtype  \n",
      "---  ------                --------------  -----  \n",
      " 0   id                    34660 non-null  object \n",
      " 1   name                  27900 non-null  object \n",
      " 2   asins                 34658 non-null  object \n",
      " 3   brand                 34660 non-null  object \n",
      " 4   categories            34660 non-null  object \n",
      " 5   keys                  34660 non-null  object \n",
      " 6   manufacturer          34660 non-null  object \n",
      " 7   reviews.date          34621 non-null  object \n",
      " 8   reviews.dateAdded     24039 non-null  object \n",
      " 9   reviews.dateSeen      34660 non-null  object \n",
      " 10  reviews.didPurchase   1 non-null      object \n",
      " 11  reviews.doRecommend   34066 non-null  object \n",
      " 12  reviews.id            1 non-null      float64\n",
      " 13  reviews.numHelpful    34131 non-null  float64\n",
      " 14  reviews.rating        34627 non-null  float64\n",
      " 15  reviews.sourceURLs    34660 non-null  object \n",
      " 16  reviews.text          34659 non-null  object \n",
      " 17  reviews.title         34655 non-null  object \n",
      " 18  reviews.userCity      0 non-null      float64\n",
      " 19  reviews.userProvince  0 non-null      float64\n",
      " 20  reviews.username      34658 non-null  object \n",
      "dtypes: float64(5), object(16)\n",
      "memory usage: 5.6+ MB\n"
     ]
    }
   ],
   "source": [
    "df.info()"
   ]
  },
  {
   "cell_type": "markdown",
   "id": "a9870456-3942-4b6f-88cd-a530f77f2558",
   "metadata": {},
   "source": [
    "# 2. Statistics"
   ]
  },
  {
   "cell_type": "code",
   "execution_count": 5,
   "id": "833d4f27-995c-4216-8dd0-182b9685a5f5",
   "metadata": {},
   "outputs": [
    {
     "data": {
      "text/html": [
       "<div>\n",
       "<style scoped>\n",
       "    .dataframe tbody tr th:only-of-type {\n",
       "        vertical-align: middle;\n",
       "    }\n",
       "\n",
       "    .dataframe tbody tr th {\n",
       "        vertical-align: top;\n",
       "    }\n",
       "\n",
       "    .dataframe thead th {\n",
       "        text-align: right;\n",
       "    }\n",
       "</style>\n",
       "<table border=\"1\" class=\"dataframe\">\n",
       "  <thead>\n",
       "    <tr style=\"text-align: right;\">\n",
       "      <th></th>\n",
       "      <th>reviews.id</th>\n",
       "      <th>reviews.numHelpful</th>\n",
       "      <th>reviews.rating</th>\n",
       "      <th>reviews.userCity</th>\n",
       "      <th>reviews.userProvince</th>\n",
       "    </tr>\n",
       "  </thead>\n",
       "  <tbody>\n",
       "    <tr>\n",
       "      <th>count</th>\n",
       "      <td>1.0</td>\n",
       "      <td>34131.000000</td>\n",
       "      <td>34627.000000</td>\n",
       "      <td>0.0</td>\n",
       "      <td>0.0</td>\n",
       "    </tr>\n",
       "    <tr>\n",
       "      <th>mean</th>\n",
       "      <td>111372787.0</td>\n",
       "      <td>0.630248</td>\n",
       "      <td>4.584573</td>\n",
       "      <td>NaN</td>\n",
       "      <td>NaN</td>\n",
       "    </tr>\n",
       "    <tr>\n",
       "      <th>std</th>\n",
       "      <td>NaN</td>\n",
       "      <td>13.215775</td>\n",
       "      <td>0.735653</td>\n",
       "      <td>NaN</td>\n",
       "      <td>NaN</td>\n",
       "    </tr>\n",
       "    <tr>\n",
       "      <th>min</th>\n",
       "      <td>111372787.0</td>\n",
       "      <td>0.000000</td>\n",
       "      <td>1.000000</td>\n",
       "      <td>NaN</td>\n",
       "      <td>NaN</td>\n",
       "    </tr>\n",
       "    <tr>\n",
       "      <th>25%</th>\n",
       "      <td>111372787.0</td>\n",
       "      <td>0.000000</td>\n",
       "      <td>4.000000</td>\n",
       "      <td>NaN</td>\n",
       "      <td>NaN</td>\n",
       "    </tr>\n",
       "    <tr>\n",
       "      <th>50%</th>\n",
       "      <td>111372787.0</td>\n",
       "      <td>0.000000</td>\n",
       "      <td>5.000000</td>\n",
       "      <td>NaN</td>\n",
       "      <td>NaN</td>\n",
       "    </tr>\n",
       "    <tr>\n",
       "      <th>75%</th>\n",
       "      <td>111372787.0</td>\n",
       "      <td>0.000000</td>\n",
       "      <td>5.000000</td>\n",
       "      <td>NaN</td>\n",
       "      <td>NaN</td>\n",
       "    </tr>\n",
       "    <tr>\n",
       "      <th>max</th>\n",
       "      <td>111372787.0</td>\n",
       "      <td>814.000000</td>\n",
       "      <td>5.000000</td>\n",
       "      <td>NaN</td>\n",
       "      <td>NaN</td>\n",
       "    </tr>\n",
       "  </tbody>\n",
       "</table>\n",
       "</div>"
      ],
      "text/plain": [
       "        reviews.id  reviews.numHelpful  reviews.rating  reviews.userCity  \\\n",
       "count          1.0        34131.000000    34627.000000               0.0   \n",
       "mean   111372787.0            0.630248        4.584573               NaN   \n",
       "std            NaN           13.215775        0.735653               NaN   \n",
       "min    111372787.0            0.000000        1.000000               NaN   \n",
       "25%    111372787.0            0.000000        4.000000               NaN   \n",
       "50%    111372787.0            0.000000        5.000000               NaN   \n",
       "75%    111372787.0            0.000000        5.000000               NaN   \n",
       "max    111372787.0          814.000000        5.000000               NaN   \n",
       "\n",
       "       reviews.userProvince  \n",
       "count                   0.0  \n",
       "mean                    NaN  \n",
       "std                     NaN  \n",
       "min                     NaN  \n",
       "25%                     NaN  \n",
       "50%                     NaN  \n",
       "75%                     NaN  \n",
       "max                     NaN  "
      ]
     },
     "execution_count": 5,
     "metadata": {},
     "output_type": "execute_result"
    }
   ],
   "source": [
    "data = df.copy()\n",
    "data.describe()"
   ]
  },
  {
   "cell_type": "markdown",
   "id": "11725c7c-5389-40b8-96e2-c6088423016b",
   "metadata": {},
   "source": [
    "Based on the descriptive statistics above, we see the following:\n",
    "1) Average review score of 4.58, with low standard deviation.\n",
    " * Most reviews are positive from 2nd quartile onwards.\n",
    "2. The average for number of reviews helpful (reviews.numHelpful) is 0.6 but has high standard deviation.\n",
    "* The data are pretty spread out around the mean, and since we can’t have negative people finding something helpful, then this is only on the right tail side.\n",
    "* The range of most reviews will be between 0-13 people finding helpful (reviews.numHelpful)\n",
    "3. The most helpful review was helpful to 814 people"
   ]
  },
  {
   "cell_type": "markdown",
   "id": "d0fbc0fa-d0eb-46bc-9626-59c0d6eabe41",
   "metadata": {},
   "source": [
    "Based on the information above:\n",
    "* Dropping reviews.userCity, reviews.userProvince, reviews.id, and reviews.didPurchase since these values are floats (for exploratory analysis only).\n",
    "* Not every category have maximum number of values in comparison to total number of values.\n",
    "* reviews.text category has minimum missing data (34659/34660)."
   ]
  },
  {
   "cell_type": "markdown",
   "id": "c8ec0033-4263-4120-a129-d5438bff3933",
   "metadata": {},
   "source": [
    "<B>ASIN (Amazon Standard Identification Number) is one of the unique product identifiers used for managing the Amazon product catalog. In a technical sense, it's a 10-digit code made up of numbers and letters</B>"
   ]
  },
  {
   "cell_type": "markdown",
   "id": "2bf3e183-6c7a-4aa7-85c0-1163a48a89c3",
   "metadata": {},
   "source": [
    "* Cleaning up the name column by referencing asins (unique products) since there are 7000 missing values."
   ]
  },
  {
   "cell_type": "code",
   "execution_count": 6,
   "id": "612f91ca-2923-46c6-8a79-0738f3aaf4a7",
   "metadata": {},
   "outputs": [
    {
     "data": {
      "text/plain": [
       "array(['B01AHB9CN2', 'B00VINDBJK', 'B005PB2T0S', 'B002Y27P3M',\n",
       "       'B01AHB9CYG', 'B01AHB9C1E', 'B01J2G4VBG', 'B00ZV9PXP2',\n",
       "       'B0083Q04TA', 'B018Y229OU', 'B00REQKWGA', 'B00IOYAM4I',\n",
       "       'B018T075DC', nan, 'B00DU15MU4', 'B018Y225IA', 'B005PB2T2Q',\n",
       "       'B018Y23MNM', 'B00OQVZDJM', 'B00IOY8XWQ', 'B00LO29KXQ',\n",
       "       'B00QJDU3KY', 'B018Y22C2Y', 'B01BFIBRIE', 'B01J4ORNHU',\n",
       "       'B018SZT3BK', 'B00UH4D8G2', 'B018Y22BI4', 'B00TSUGXKE',\n",
       "       'B00L9EPT8O,B01E6AO69U', 'B018Y23P7K', 'B00X4WHP5E', 'B00QFQRELG',\n",
       "       'B00LW9XOJM', 'B00QL1ZN3G', 'B0189XYY0Q', 'B01BH83OOM',\n",
       "       'B00BFJAHF8', 'B00U3FPN4U', 'B002Y27P6Y', 'B006GWO5NE',\n",
       "       'B006GWO5WK'], dtype=object)"
      ]
     },
     "execution_count": 6,
     "metadata": {},
     "output_type": "execute_result"
    }
   ],
   "source": [
    "data[\"asins\"].unique()"
   ]
  },
  {
   "cell_type": "code",
   "execution_count": 7,
   "id": "8b0aec85-935d-4db0-a236-3152b64e501e",
   "metadata": {},
   "outputs": [
    {
     "name": "stdout",
     "output_type": "stream",
     "text": [
      "Number of Unique ASINs: 42\n"
     ]
    }
   ],
   "source": [
    "asins_unique = len(data[\"asins\"].unique())\n",
    "print(\"Number of Unique ASINs: \" + str(asins_unique))"
   ]
  },
  {
   "cell_type": "markdown",
   "id": "35c3ea25-35d8-4adf-a59c-dbd8a6c13b76",
   "metadata": {},
   "source": [
    "## 2.1. Calculating highest rated product"
   ]
  },
  {
   "cell_type": "code",
   "execution_count": 8,
   "id": "000d307e-71ee-4258-a617-113603aa70bf",
   "metadata": {},
   "outputs": [
    {
     "name": "stdout",
     "output_type": "stream",
     "text": [
      "-----Highly rated product-----\n",
      "asins\n",
      "B018Y229OU               10966\n",
      "B00L9EPT8O,B01E6AO69U     6619\n",
      "B00U3FPN4U                5056\n",
      "B00OQVZDJM                3176\n",
      "B01AHB9CN2                2814\n",
      "Name: reviews.rating, dtype: int64\n"
     ]
    }
   ],
   "source": [
    "print('-----Highly rated product-----')\n",
    "print(df.groupby('asins')['reviews.rating'].count().sort_values(ascending=False).head())"
   ]
  },
  {
   "cell_type": "markdown",
   "id": "548265b9-7190-48a9-a5f2-abdd95b8f1e8",
   "metadata": {},
   "source": [
    "## 2.2. Calculating average rated products"
   ]
  },
  {
   "cell_type": "code",
   "execution_count": 9,
   "id": "681abc82-2a48-4cf2-a9a9-8d3313b918ee",
   "metadata": {},
   "outputs": [
    {
     "name": "stdout",
     "output_type": "stream",
     "text": [
      "-----Average rating based on each product-----\n",
      "            reviews.rating\n",
      "asins                     \n",
      "B002Y27P3M             NaN\n",
      "B002Y27P6Y        3.500000\n",
      "B005PB2T0S        4.000000\n",
      "B005PB2T2Q        3.666667\n",
      "B006GWO5NE        4.875000\n"
     ]
    }
   ],
   "source": [
    "print(\"-----Average rating based on each product-----\")\n",
    "avgrating = pd.DataFrame(df.groupby('asins')['reviews.rating'].mean())\n",
    "print(avgrating.head())"
   ]
  },
  {
   "cell_type": "markdown",
   "id": "dda83bb1-2f18-432e-b1ab-d089b6b67fa8",
   "metadata": {},
   "source": [
    "# 3. Visualizing the distributions of numerical variables:"
   ]
  },
  {
   "cell_type": "code",
   "execution_count": 10,
   "id": "716b2173-0961-49be-8489-9ee9b997ebf8",
   "metadata": {},
   "outputs": [
    {
     "data": {
      "image/png": "[encoded data removed]",
      "text/plain": [
       "<Figure size 1440x1080 with 6 Axes>"
      ]
     },
     "metadata": {
      "needs_background": "light"
     },
     "output_type": "display_data"
    }
   ],
   "source": [
    "# Building histogram \n",
    "data.hist(bins=50, figsize=(20,15))\n",
    "plt.show()"
   ]
  },
  {
   "cell_type": "markdown",
   "id": "15b7e4e9-df3c-4e40-98b2-7d43dfc45466",
   "metadata": {},
   "source": [
    "Based on the distributions above:\n",
    "\n",
    "<B> reviews.numHelpful:</B> We want to weight reviews that had more than 50+ people who find them helpful. <br>\n",
    "<B> reviews.rating: </B> Majority were highly rated (looking at rating distribution). There is twice amount of 5 star ratings than the others ratings combined."
   ]
  },
  {
   "cell_type": "markdown",
   "id": "fc16efaa-cdb4-4a01-b694-027cd2b07325",
   "metadata": {},
   "source": [
    "# 4. Spliting the data into Train/Test"
   ]
  },
  {
   "cell_type": "markdown",
   "id": "28737623-18ed-4284-bb7a-5b70b8f09b31",
   "metadata": {},
   "source": [
    "* Spliting the data into training set and test set. \n",
    "* Our goal is to eventually train a sentiment analysis classifier.\n",
    "* Since the majority of reviews are positive (5 stars), we need to do a stratified split on the reviews score to ensure that we don’t train the classifier on imbalanced data.\n",
    "* To use sklearn’s <B> Stratified ShuffleSplit class </B>, removing all samples that have NAN in reviews score, then coverting all the reviews scores to integer datatype. <br>"
   ]
  },
  {
   "cell_type": "code",
   "execution_count": 11,
   "id": "3983e4dd-096b-4570-808a-e5e662d0cde9",
   "metadata": {},
   "outputs": [],
   "source": [
    "from sklearn.model_selection import StratifiedShuffleSplit"
   ]
  },
  {
   "cell_type": "code",
   "execution_count": 12,
   "id": "be2f9fc8-a0c0-48ba-9b24-17c4bb0c366e",
   "metadata": {},
   "outputs": [
    {
     "name": "stdout",
     "output_type": "stream",
     "text": [
      "Before: 34660\n"
     ]
    }
   ],
   "source": [
    "print(\"Before: {}\".format(len(data)))\n",
    "dataAfter = data.dropna(subset=[\"reviews.rating\"])"
   ]
  },
  {
   "cell_type": "code",
   "execution_count": 13,
   "id": "82b228fb-ea3d-4e20-bdf4-19d76e84cace",
   "metadata": {},
   "outputs": [
    {
     "name": "stdout",
     "output_type": "stream",
     "text": [
      "After: 34627\n"
     ]
    }
   ],
   "source": [
    "# Removes all NAN in reviews.rating\n",
    "print(\"After: {}\".format(len(dataAfter)))\n",
    "dataAfter[\"reviews.rating\"] = dataAfter[\"reviews.rating\"].astype(int)"
   ]
  },
  {
   "cell_type": "code",
   "execution_count": 14,
   "id": "329e245e-dfa2-47ce-9569-4d0454fd321d",
   "metadata": {},
   "outputs": [],
   "source": [
    "split = StratifiedShuffleSplit(n_splits=5, test_size=0.2)\n",
    "for train_index, test_index in split.split(dataAfter, dataAfter[\"reviews.rating\"]): \n",
    "    strat_train = dataAfter.reindex(train_index)\n",
    "    strat_test = dataAfter.reindex(test_index)"
   ]
  },
  {
   "cell_type": "markdown",
   "id": "a9b4e3af-e94f-46fe-bea4-817929e52fcf",
   "metadata": {},
   "source": [
    "## 4.1. Checking to see if train/test sets were stratified proportionately in comparison to the raw data."
   ]
  },
  {
   "cell_type": "code",
   "execution_count": 15,
   "id": "2ea6f879-792e-491e-9030-e2f256bb6f14",
   "metadata": {},
   "outputs": [
    {
     "data": {
      "text/plain": [
       "27701"
      ]
     },
     "execution_count": 15,
     "metadata": {},
     "output_type": "execute_result"
    }
   ],
   "source": [
    "len(strat_train)"
   ]
  },
  {
   "cell_type": "code",
   "execution_count": 16,
   "id": "95c600ae-3aac-4270-b627-070f91bc8692",
   "metadata": {},
   "outputs": [
    {
     "data": {
      "text/plain": [
       "5.0    0.686004\n",
       "4.0    0.245551\n",
       "3.0    0.044042\n",
       "1.0    0.011769\n",
       "2.0    0.011696\n",
       "Name: reviews.rating, dtype: float64"
      ]
     },
     "execution_count": 16,
     "metadata": {},
     "output_type": "execute_result"
    }
   ],
   "source": [
    "strat_train[\"reviews.rating\"].value_counts()/len(strat_train) # value_count() counts all the values based on column"
   ]
  },
  {
   "cell_type": "code",
   "execution_count": 17,
   "id": "877b2716-4010-46f6-8993-5a6822e8082a",
   "metadata": {},
   "outputs": [
    {
     "data": {
      "text/plain": [
       "6926"
      ]
     },
     "execution_count": 17,
     "metadata": {},
     "output_type": "execute_result"
    }
   ],
   "source": [
    "len(strat_test)"
   ]
  },
  {
   "cell_type": "code",
   "execution_count": 18,
   "id": "1b036bf7-9a42-4e66-a88f-432963451880",
   "metadata": {},
   "outputs": [
    {
     "data": {
      "text/plain": [
       "5.0    0.686543\n",
       "4.0    0.250650\n",
       "3.0    0.039994\n",
       "2.0    0.011118\n",
       "1.0    0.010684\n",
       "Name: reviews.rating, dtype: float64"
      ]
     },
     "execution_count": 18,
     "metadata": {},
     "output_type": "execute_result"
    }
   ],
   "source": [
    "strat_test[\"reviews.rating\"].value_counts()/len(strat_test)"
   ]
  },
  {
   "cell_type": "markdown",
   "id": "7966755f-f6f1-496d-9506-966feaf5b282",
   "metadata": {},
   "source": [
    "# 5. Exploring the Training Set "
   ]
  },
  {
   "cell_type": "code",
   "execution_count": 19,
   "id": "2a7740f7-a50c-438c-9968-5745a8ba4171",
   "metadata": {},
   "outputs": [
    {
     "data": {
      "image/png": "[encoded data removed]",
      "text/plain": [
       "<Figure size 1152x720 with 2 Axes>"
      ]
     },
     "metadata": {
      "needs_background": "light"
     },
     "output_type": "display_data"
    }
   ],
   "source": [
    "fig = plt.figure(figsize=(16,10))\n",
    "ax1 = plt.subplot(211)\n",
    "ax2 = plt.subplot(212, sharex = ax1)\n",
    "strat_train[\"asins\"].value_counts().plot(kind=\"bar\", ax=ax1, title=\"ASIN Frequency\")\n",
    "np.log10(strat_train[\"asins\"].value_counts()).plot(kind=\"bar\", ax=ax2, title=\"ASIN Frequency (Log10 Adjusted)\") \n",
    "plt.show()"
   ]
  },
  {
   "cell_type": "markdown",
   "id": "a648a3f0-24d7-4662-a8f6-9193cd450dc3",
   "metadata": {},
   "source": [
    "* Based on the bar graph for ASINs, we see that certain products have more reviews than other products, which indicate those  products have higher sales.\n",
    "* We also see that the ASINs have a \"right tailed\" distribution which can also suggest that certain products have higher sales which can correlate to the higher ASINs frequencies in the strat_train.\n",
    "* We also took the log of the ASINs to normalize the data, in order display an in-depth picture of each ASINs, and we see that the distribution still follows a \"right tailed\" distribution.\n",
    "* From this we can say that certain ASINs (products) have better sales, while other ASINs have lower sale, and we can also say which products can be kept or dropped."
   ]
  },
  {
   "cell_type": "code",
   "execution_count": 20,
   "id": "1e33aff9-be5b-45f9-9dcf-2b325a0620e2",
   "metadata": {},
   "outputs": [
    {
     "data": {
      "text/plain": [
       "4.5838121047877145"
      ]
     },
     "execution_count": 20,
     "metadata": {},
     "output_type": "execute_result"
    }
   ],
   "source": [
    "# training dataset average rating\n",
    "strat_train[\"reviews.rating\"].mean()"
   ]
  },
  {
   "cell_type": "markdown",
   "id": "23f7d067-caa5-4713-912c-9e69984bef42",
   "metadata": {},
   "source": [
    "## 5.1. reviews.rating of ASINs"
   ]
  },
  {
   "cell_type": "code",
   "execution_count": 21,
   "id": "70dba23b-c8ce-48da-b0b5-08881608e00c",
   "metadata": {},
   "outputs": [
    {
     "data": {
      "image/png": "[encoded data removed]",
      "text/plain": [
       "<Figure size 1152x864 with 2 Axes>"
      ]
     },
     "metadata": {
      "needs_background": "light"
     },
     "output_type": "display_data"
    }
   ],
   "source": [
    "asins_count_ix = strat_train[\"asins\"].value_counts().index\n",
    "plt.subplots(2,1,figsize=(16,12))\n",
    "plt.subplot(2,1,1)\n",
    "strat_train[\"asins\"].value_counts().plot(kind=\"bar\", title=\"ASIN Frequency\")\n",
    "plt.subplot(2,1,2)\n",
    "sns.pointplot(x=\"asins\", y=\"reviews.rating\", order=asins_count_ix, data=strat_train)\n",
    "plt.xticks(rotation=90)\n",
    "plt.show()"
   ]
  },
  {
   "cell_type": "markdown",
   "id": "a9923c11-9010-4281-9022-5f58d3850169",
   "metadata": {},
   "source": [
    "<B> The point-plot graph here automatically takes the average(mean) of the review.rating data. </B>\n",
    "\n",
    "Based on the above graphs:"
   ]
  },
  {
   "cell_type": "markdown",
   "id": "df7054de-8205-4746-ba4d-70efd70989f9",
   "metadata": {},
   "source": [
    "* The most frequently reviewed products have their average review ratings in the range of 4.5 - 4.8, with little variance (vertical lines in the point-plot graph).\n",
    "* Although there is a slight inverse relationship between the ASINs frequency level and average review ratings for the first 4 ASINs, this relationship is not significant since the average review for the first 4 ASINs are rated between 4.5 - 4.8, which is considered good overall reviews."
   ]
  },
  {
   "cell_type": "markdown",
   "id": "b227e962-623c-40f4-8024-89e8f4fa4cb3",
   "metadata": {},
   "source": [
    "* For ASINs with lower frequencies as shown on the bar graph (top), we see that their corresponding average review ratings on the point-plot graph (bottom) has significantly higher variance as shown by the length of the vertical lines. As a result, we can say that, the average review ratings for ASINs with lower frequencies are not significant for our analysis due to high variance.\n",
    "* On the other hand, due to their lower frequencies for ASINs with lower frequencies, we can say that this is a result of lower quality products.\n",
    "* Furthermore, the last 4 ASINs have no variance due to their significantly lower frequencies, and although the review ratings are a perfect 5.0, but we do not consider the significance of these review ratings due to lower frequency."
   ]
  },
  {
   "cell_type": "markdown",
   "id": "f196e829-c032-4771-bca5-f5cdc83c8099",
   "metadata": {},
   "source": [
    "## 5.2. reviews.doRecommend of ASINs\n"
   ]
  },
  {
   "cell_type": "code",
   "execution_count": 22,
   "id": "5d86bfd8-7ef4-4b05-bbe6-eb26589e5879",
   "metadata": {},
   "outputs": [
    {
     "data": {
      "image/png": "[encoded data removed]",
      "text/plain": [
       "<Figure size 1152x864 with 2 Axes>"
      ]
     },
     "metadata": {
      "needs_background": "light"
     },
     "output_type": "display_data"
    }
   ],
   "source": [
    "plt.subplots (2,1,figsize=(16,12))\n",
    "plt.subplot(2,1,1)\n",
    "strat_train[\"asins\"].value_counts().plot(kind=\"bar\", title=\"ASIN Frequency\")\n",
    "plt.subplot(2,1,2)\n",
    "sns.pointplot(x=\"asins\", y=\"reviews.doRecommend\", order=asins_count_ix, data=strat_train)\n",
    "plt.xticks(rotation=90)\n",
    "plt.show()"
   ]
  },
  {
   "cell_type": "markdown",
   "id": "82cdf69e-000e-4a43-ade2-eaaeee9db39c",
   "metadata": {},
   "source": [
    "* From this analysis, we can see that the first 19 ASINs show that consumers recommend the product, which is consistent with the \"reviews.rating of ASINs\" analysis above, where the first 19 ASINs have good ratings between 4.0 to 5.0\n",
    "* The remaining ASINs have fluctuating results due to lower sample size, which are not considered."
   ]
  },
  {
   "cell_type": "markdown",
   "id": "667324f2-5809-4703-bdec-da0734abc2c1",
   "metadata": {},
   "source": [
    "## 5.3. Scatter plot for best rated products"
   ]
  },
  {
   "cell_type": "code",
   "execution_count": 23,
   "id": "bf3527c0-e3d1-42ae-90ee-773571c5f5c4",
   "metadata": {},
   "outputs": [
    {
     "data": {
      "image/png": "[encoded data removed]",
      "text/plain": [
       "<Figure size 432x288 with 2 Axes>"
      ]
     },
     "metadata": {
      "needs_background": "light"
     },
     "output_type": "display_data"
    }
   ],
   "source": [
    "import matplotlib.pyplot as plt\n",
    "\n",
    "plt.scatter(strat_train['reviews.rating'], strat_train['reviews.numHelpful'])\n",
    "plt.title(\"Scatter Plot\")\n",
    "plt.xlabel('reviews.rating')\n",
    "plt.ylabel('reviews.numHelpful')\n",
    "plt.colorbar()\n",
    "plt.show()"
   ]
  },
  {
   "cell_type": "markdown",
   "id": "0d7646f4-467d-4f88-bc62-129dd0c3e1c0",
   "metadata": {},
   "source": [
    "* Scatter plot for best rating of a product found by maximum votes by customers."
   ]
  },
  {
   "cell_type": "markdown",
   "id": "26a51452-ec80-4296-9579-6ace6ffdc537",
   "metadata": {},
   "source": [
    "## 5.4. Histogram for target class"
   ]
  },
  {
   "cell_type": "code",
   "execution_count": 24,
   "id": "2be4055b-a2c5-4ef6-ae2b-0a9e61c13802",
   "metadata": {},
   "outputs": [
    {
     "data": {
      "image/png": "[encoded data removed]",
      "text/plain": [
       "<Figure size 432x288 with 1 Axes>"
      ]
     },
     "metadata": {
      "needs_background": "light"
     },
     "output_type": "display_data"
    }
   ],
   "source": [
    "plt.hist(strat_train['reviews.rating'])\n",
    "plt.title(\"Histogram\")  \n",
    "plt.xlabel('reviews.rating', fontsize = 10)\n",
    "plt.show()"
   ]
  },
  {
   "cell_type": "markdown",
   "id": "4dbfb23d-2625-416a-a7b4-7d852c0d6d6b",
   "metadata": {},
   "source": [
    "* Histogram of the target class(reviews.rating) which allows to see the frequency distribution of the data set."
   ]
  },
  {
   "cell_type": "markdown",
   "id": "34dcde97-7e84-4ca8-87c8-6c7b43ddfe7a",
   "metadata": {},
   "source": [
    "# 6. Correlations \n",
    "## 6.1. Analyzing reviews.ratings with asins"
   ]
  },
  {
   "cell_type": "code",
   "execution_count": 25,
   "id": "9e648422-6bf0-4fc3-ad95-8f026fd75eb3",
   "metadata": {},
   "outputs": [
    {
     "data": {
      "text/html": [
       "<div>\n",
       "<style scoped>\n",
       "    .dataframe tbody tr th:only-of-type {\n",
       "        vertical-align: middle;\n",
       "    }\n",
       "\n",
       "    .dataframe tbody tr th {\n",
       "        vertical-align: top;\n",
       "    }\n",
       "\n",
       "    .dataframe thead th {\n",
       "        text-align: right;\n",
       "    }\n",
       "</style>\n",
       "<table border=\"1\" class=\"dataframe\">\n",
       "  <thead>\n",
       "    <tr style=\"text-align: right;\">\n",
       "      <th></th>\n",
       "      <th>reviews.id</th>\n",
       "      <th>reviews.numHelpful</th>\n",
       "      <th>reviews.rating</th>\n",
       "      <th>reviews.userCity</th>\n",
       "      <th>reviews.userProvince</th>\n",
       "    </tr>\n",
       "  </thead>\n",
       "  <tbody>\n",
       "    <tr>\n",
       "      <th>reviews.id</th>\n",
       "      <td>NaN</td>\n",
       "      <td>NaN</td>\n",
       "      <td>NaN</td>\n",
       "      <td>NaN</td>\n",
       "      <td>NaN</td>\n",
       "    </tr>\n",
       "    <tr>\n",
       "      <th>reviews.numHelpful</th>\n",
       "      <td>NaN</td>\n",
       "      <td>1.000000</td>\n",
       "      <td>-0.048456</td>\n",
       "      <td>NaN</td>\n",
       "      <td>NaN</td>\n",
       "    </tr>\n",
       "    <tr>\n",
       "      <th>reviews.rating</th>\n",
       "      <td>NaN</td>\n",
       "      <td>-0.048456</td>\n",
       "      <td>1.000000</td>\n",
       "      <td>NaN</td>\n",
       "      <td>NaN</td>\n",
       "    </tr>\n",
       "    <tr>\n",
       "      <th>reviews.userCity</th>\n",
       "      <td>NaN</td>\n",
       "      <td>NaN</td>\n",
       "      <td>NaN</td>\n",
       "      <td>NaN</td>\n",
       "      <td>NaN</td>\n",
       "    </tr>\n",
       "    <tr>\n",
       "      <th>reviews.userProvince</th>\n",
       "      <td>NaN</td>\n",
       "      <td>NaN</td>\n",
       "      <td>NaN</td>\n",
       "      <td>NaN</td>\n",
       "      <td>NaN</td>\n",
       "    </tr>\n",
       "  </tbody>\n",
       "</table>\n",
       "</div>"
      ],
      "text/plain": [
       "                      reviews.id  reviews.numHelpful  reviews.rating  \\\n",
       "reviews.id                   NaN                 NaN             NaN   \n",
       "reviews.numHelpful           NaN            1.000000       -0.048456   \n",
       "reviews.rating               NaN           -0.048456        1.000000   \n",
       "reviews.userCity             NaN                 NaN             NaN   \n",
       "reviews.userProvince         NaN                 NaN             NaN   \n",
       "\n",
       "                      reviews.userCity  reviews.userProvince  \n",
       "reviews.id                         NaN                   NaN  \n",
       "reviews.numHelpful                 NaN                   NaN  \n",
       "reviews.rating                     NaN                   NaN  \n",
       "reviews.userCity                   NaN                   NaN  \n",
       "reviews.userProvince               NaN                   NaN  "
      ]
     },
     "execution_count": 25,
     "metadata": {},
     "output_type": "execute_result"
    }
   ],
   "source": [
    "corr_matrix = strat_train.corr()\n",
    "corr_matrix"
   ]
  },
  {
   "cell_type": "code",
   "execution_count": 26,
   "id": "2fa377c9-c3d2-48c0-bed1-7f3923cc211b",
   "metadata": {},
   "outputs": [
    {
     "name": "stdout",
     "output_type": "stream",
     "text": [
      "<class 'pandas.core.frame.DataFrame'>\n",
      "Int64Index: 27701 entries, 30412 to 26045\n",
      "Data columns (total 21 columns):\n",
      " #   Column                Non-Null Count  Dtype  \n",
      "---  ------                --------------  -----  \n",
      " 0   id                    27675 non-null  object \n",
      " 1   name                  22311 non-null  object \n",
      " 2   asins                 27673 non-null  object \n",
      " 3   brand                 27675 non-null  object \n",
      " 4   categories            27675 non-null  object \n",
      " 5   keys                  27675 non-null  object \n",
      " 6   manufacturer          27675 non-null  object \n",
      " 7   reviews.date          27658 non-null  object \n",
      " 8   reviews.dateAdded     19207 non-null  object \n",
      " 9   reviews.dateSeen      27675 non-null  object \n",
      " 10  reviews.didPurchase   1 non-null      object \n",
      " 11  reviews.doRecommend   27249 non-null  object \n",
      " 12  reviews.id            1 non-null      float64\n",
      " 13  reviews.numHelpful    27298 non-null  float64\n",
      " 14  reviews.rating        27675 non-null  float64\n",
      " 15  reviews.sourceURLs    27675 non-null  object \n",
      " 16  reviews.text          27674 non-null  object \n",
      " 17  reviews.title         27670 non-null  object \n",
      " 18  reviews.userCity      0 non-null      float64\n",
      " 19  reviews.userProvince  0 non-null      float64\n",
      " 20  reviews.username      27673 non-null  object \n",
      "dtypes: float64(5), object(16)\n",
      "memory usage: 5.7+ MB\n"
     ]
    }
   ],
   "source": [
    "strat_train.info()"
   ]
  },
  {
   "cell_type": "code",
   "execution_count": 27,
   "id": "90ea470f-1ac7-41c0-a8b0-dd40923c2466",
   "metadata": {},
   "outputs": [
    {
     "data": {
      "text/html": [
       "<div>\n",
       "<style scoped>\n",
       "    .dataframe tbody tr th:only-of-type {\n",
       "        vertical-align: middle;\n",
       "    }\n",
       "\n",
       "    .dataframe tbody tr th {\n",
       "        vertical-align: top;\n",
       "    }\n",
       "\n",
       "    .dataframe thead th {\n",
       "        text-align: right;\n",
       "    }\n",
       "</style>\n",
       "<table border=\"1\" class=\"dataframe\">\n",
       "  <thead>\n",
       "    <tr style=\"text-align: right;\">\n",
       "      <th></th>\n",
       "      <th>asins</th>\n",
       "    </tr>\n",
       "  </thead>\n",
       "  <tbody>\n",
       "    <tr>\n",
       "      <th>B018Y229OU</th>\n",
       "      <td>8757</td>\n",
       "    </tr>\n",
       "    <tr>\n",
       "      <th>B00L9EPT8O,B01E6AO69U</th>\n",
       "      <td>5301</td>\n",
       "    </tr>\n",
       "    <tr>\n",
       "      <th>B00U3FPN4U</th>\n",
       "      <td>4021</td>\n",
       "    </tr>\n",
       "    <tr>\n",
       "      <th>B00OQVZDJM</th>\n",
       "      <td>2572</td>\n",
       "    </tr>\n",
       "    <tr>\n",
       "      <th>B01AHB9CN2</th>\n",
       "      <td>2233</td>\n",
       "    </tr>\n",
       "  </tbody>\n",
       "</table>\n",
       "</div>"
      ],
      "text/plain": [
       "                       asins\n",
       "B018Y229OU              8757\n",
       "B00L9EPT8O,B01E6AO69U   5301\n",
       "B00U3FPN4U              4021\n",
       "B00OQVZDJM              2572\n",
       "B01AHB9CN2              2233"
      ]
     },
     "execution_count": 27,
     "metadata": {},
     "output_type": "execute_result"
    }
   ],
   "source": [
    "counts = strat_train[\"asins\"].value_counts().to_frame()\n",
    "counts.head()"
   ]
  },
  {
   "cell_type": "code",
   "execution_count": 28,
   "id": "33c02497-c89d-4820-8518-e42aec7d5583",
   "metadata": {},
   "outputs": [
    {
     "data": {
      "text/html": [
       "<div>\n",
       "<style scoped>\n",
       "    .dataframe tbody tr th:only-of-type {\n",
       "        vertical-align: middle;\n",
       "    }\n",
       "\n",
       "    .dataframe tbody tr th {\n",
       "        vertical-align: top;\n",
       "    }\n",
       "\n",
       "    .dataframe thead th {\n",
       "        text-align: right;\n",
       "    }\n",
       "</style>\n",
       "<table border=\"1\" class=\"dataframe\">\n",
       "  <thead>\n",
       "    <tr style=\"text-align: right;\">\n",
       "      <th></th>\n",
       "      <th>reviews.rating</th>\n",
       "    </tr>\n",
       "    <tr>\n",
       "      <th>asins</th>\n",
       "      <th></th>\n",
       "    </tr>\n",
       "  </thead>\n",
       "  <tbody>\n",
       "    <tr>\n",
       "      <th>B005PB2T0S</th>\n",
       "      <td>3.666667</td>\n",
       "    </tr>\n",
       "    <tr>\n",
       "      <th>B005PB2T2Q</th>\n",
       "      <td>3.666667</td>\n",
       "    </tr>\n",
       "    <tr>\n",
       "      <th>B00DU15MU4</th>\n",
       "      <td>5.000000</td>\n",
       "    </tr>\n",
       "    <tr>\n",
       "      <th>B00IOY8XWQ</th>\n",
       "      <td>4.721030</td>\n",
       "    </tr>\n",
       "    <tr>\n",
       "      <th>B00IOYAM4I</th>\n",
       "      <td>4.820513</td>\n",
       "    </tr>\n",
       "  </tbody>\n",
       "</table>\n",
       "</div>"
      ],
      "text/plain": [
       "            reviews.rating\n",
       "asins                     \n",
       "B005PB2T0S        3.666667\n",
       "B005PB2T2Q        3.666667\n",
       "B00DU15MU4        5.000000\n",
       "B00IOY8XWQ        4.721030\n",
       "B00IOYAM4I        4.820513"
      ]
     },
     "execution_count": 28,
     "metadata": {},
     "output_type": "execute_result"
    }
   ],
   "source": [
    "avg_rating = strat_train.groupby(\"asins\")[\"reviews.rating\"].mean().to_frame()\n",
    "avg_rating.head()"
   ]
  },
  {
   "cell_type": "code",
   "execution_count": 29,
   "id": "810f2bd6-51a6-4903-8b6d-b5f2f3ea952f",
   "metadata": {},
   "outputs": [
    {
     "data": {
      "text/html": [
       "<div>\n",
       "<style scoped>\n",
       "    .dataframe tbody tr th:only-of-type {\n",
       "        vertical-align: middle;\n",
       "    }\n",
       "\n",
       "    .dataframe tbody tr th {\n",
       "        vertical-align: top;\n",
       "    }\n",
       "\n",
       "    .dataframe thead th {\n",
       "        text-align: right;\n",
       "    }\n",
       "</style>\n",
       "<table border=\"1\" class=\"dataframe\">\n",
       "  <thead>\n",
       "    <tr style=\"text-align: right;\">\n",
       "      <th></th>\n",
       "      <th>asins</th>\n",
       "      <th>reviews.rating</th>\n",
       "    </tr>\n",
       "  </thead>\n",
       "  <tbody>\n",
       "    <tr>\n",
       "      <th>B018Y229OU</th>\n",
       "      <td>8757</td>\n",
       "      <td>4.457805</td>\n",
       "    </tr>\n",
       "    <tr>\n",
       "      <th>B00L9EPT8O,B01E6AO69U</th>\n",
       "      <td>5301</td>\n",
       "      <td>4.674024</td>\n",
       "    </tr>\n",
       "    <tr>\n",
       "      <th>B00U3FPN4U</th>\n",
       "      <td>4021</td>\n",
       "      <td>4.704054</td>\n",
       "    </tr>\n",
       "    <tr>\n",
       "      <th>B00OQVZDJM</th>\n",
       "      <td>2572</td>\n",
       "      <td>4.767496</td>\n",
       "    </tr>\n",
       "    <tr>\n",
       "      <th>B01AHB9CN2</th>\n",
       "      <td>2233</td>\n",
       "      <td>4.579489</td>\n",
       "    </tr>\n",
       "    <tr>\n",
       "      <th>B018Y23MNM</th>\n",
       "      <td>1353</td>\n",
       "      <td>4.509978</td>\n",
       "    </tr>\n",
       "    <tr>\n",
       "      <th>B018Y225IA</th>\n",
       "      <td>844</td>\n",
       "      <td>4.496445</td>\n",
       "    </tr>\n",
       "    <tr>\n",
       "      <th>B01BH83OOM</th>\n",
       "      <td>516</td>\n",
       "      <td>4.511628</td>\n",
       "    </tr>\n",
       "    <tr>\n",
       "      <th>B00IOY8XWQ</th>\n",
       "      <td>466</td>\n",
       "      <td>4.721030</td>\n",
       "    </tr>\n",
       "    <tr>\n",
       "      <th>B01J2G4VBG</th>\n",
       "      <td>327</td>\n",
       "      <td>4.422018</td>\n",
       "    </tr>\n",
       "    <tr>\n",
       "      <th>B00TSUGXKE</th>\n",
       "      <td>288</td>\n",
       "      <td>4.434028</td>\n",
       "    </tr>\n",
       "    <tr>\n",
       "      <th>B018SZT3BK</th>\n",
       "      <td>217</td>\n",
       "      <td>4.566820</td>\n",
       "    </tr>\n",
       "    <tr>\n",
       "      <th>B0189XYY0Q</th>\n",
       "      <td>201</td>\n",
       "      <td>4.557214</td>\n",
       "    </tr>\n",
       "    <tr>\n",
       "      <th>B00ZV9PXP2</th>\n",
       "      <td>174</td>\n",
       "      <td>4.557471</td>\n",
       "    </tr>\n",
       "    <tr>\n",
       "      <th>B01AHB9CYG</th>\n",
       "      <td>126</td>\n",
       "      <td>4.547619</td>\n",
       "    </tr>\n",
       "    <tr>\n",
       "      <th>B00QFQRELG</th>\n",
       "      <td>60</td>\n",
       "      <td>4.100000</td>\n",
       "    </tr>\n",
       "    <tr>\n",
       "      <th>B00VINDBJK</th>\n",
       "      <td>53</td>\n",
       "      <td>4.622642</td>\n",
       "    </tr>\n",
       "    <tr>\n",
       "      <th>B00IOYAM4I</th>\n",
       "      <td>39</td>\n",
       "      <td>4.820513</td>\n",
       "    </tr>\n",
       "    <tr>\n",
       "      <th>B01BFIBRIE</th>\n",
       "      <td>25</td>\n",
       "      <td>4.600000</td>\n",
       "    </tr>\n",
       "    <tr>\n",
       "      <th>B01J4ORNHU</th>\n",
       "      <td>14</td>\n",
       "      <td>4.428571</td>\n",
       "    </tr>\n",
       "    <tr>\n",
       "      <th>B01AHB9C1E</th>\n",
       "      <td>14</td>\n",
       "      <td>4.500000</td>\n",
       "    </tr>\n",
       "    <tr>\n",
       "      <th>B00QL1ZN3G</th>\n",
       "      <td>13</td>\n",
       "      <td>3.153846</td>\n",
       "    </tr>\n",
       "    <tr>\n",
       "      <th>B00QJDU3KY</th>\n",
       "      <td>8</td>\n",
       "      <td>4.750000</td>\n",
       "    </tr>\n",
       "    <tr>\n",
       "      <th>B018Y22BI4</th>\n",
       "      <td>8</td>\n",
       "      <td>4.625000</td>\n",
       "    </tr>\n",
       "    <tr>\n",
       "      <th>B00LW9XOJM</th>\n",
       "      <td>7</td>\n",
       "      <td>3.714286</td>\n",
       "    </tr>\n",
       "    <tr>\n",
       "      <th>B00UH4D8G2</th>\n",
       "      <td>6</td>\n",
       "      <td>3.000000</td>\n",
       "    </tr>\n",
       "    <tr>\n",
       "      <th>B005PB2T2Q</th>\n",
       "      <td>6</td>\n",
       "      <td>3.666667</td>\n",
       "    </tr>\n",
       "    <tr>\n",
       "      <th>B00X4WHP5E</th>\n",
       "      <td>6</td>\n",
       "      <td>4.166667</td>\n",
       "    </tr>\n",
       "    <tr>\n",
       "      <th>B018T075DC</th>\n",
       "      <td>5</td>\n",
       "      <td>5.000000</td>\n",
       "    </tr>\n",
       "    <tr>\n",
       "      <th>B018Y22C2Y</th>\n",
       "      <td>4</td>\n",
       "      <td>4.750000</td>\n",
       "    </tr>\n",
       "  </tbody>\n",
       "</table>\n",
       "</div>"
      ],
      "text/plain": [
       "                       asins  reviews.rating\n",
       "B018Y229OU              8757        4.457805\n",
       "B00L9EPT8O,B01E6AO69U   5301        4.674024\n",
       "B00U3FPN4U              4021        4.704054\n",
       "B00OQVZDJM              2572        4.767496\n",
       "B01AHB9CN2              2233        4.579489\n",
       "B018Y23MNM              1353        4.509978\n",
       "B018Y225IA               844        4.496445\n",
       "B01BH83OOM               516        4.511628\n",
       "B00IOY8XWQ               466        4.721030\n",
       "B01J2G4VBG               327        4.422018\n",
       "B00TSUGXKE               288        4.434028\n",
       "B018SZT3BK               217        4.566820\n",
       "B0189XYY0Q               201        4.557214\n",
       "B00ZV9PXP2               174        4.557471\n",
       "B01AHB9CYG               126        4.547619\n",
       "B00QFQRELG                60        4.100000\n",
       "B00VINDBJK                53        4.622642\n",
       "B00IOYAM4I                39        4.820513\n",
       "B01BFIBRIE                25        4.600000\n",
       "B01J4ORNHU                14        4.428571\n",
       "B01AHB9C1E                14        4.500000\n",
       "B00QL1ZN3G                13        3.153846\n",
       "B00QJDU3KY                 8        4.750000\n",
       "B018Y22BI4                 8        4.625000\n",
       "B00LW9XOJM                 7        3.714286\n",
       "B00UH4D8G2                 6        3.000000\n",
       "B005PB2T2Q                 6        3.666667\n",
       "B00X4WHP5E                 6        4.166667\n",
       "B018T075DC                 5        5.000000\n",
       "B018Y22C2Y                 4        4.750000"
      ]
     },
     "execution_count": 29,
     "metadata": {},
     "output_type": "execute_result"
    }
   ],
   "source": [
    "table = counts.join(avg_rating)\n",
    "table.head(30)"
   ]
  },
  {
   "cell_type": "markdown",
   "id": "c7cae800-b785-4f75-81c0-ce576d28f71a",
   "metadata": {},
   "source": [
    "## 6.2. reviews.rating Vs ASINS"
   ]
  },
  {
   "cell_type": "code",
   "execution_count": 30,
   "id": "055cb03e-4136-41e3-9080-43b9e1b3e508",
   "metadata": {},
   "outputs": [
    {
     "data": {
      "text/html": [
       "<div>\n",
       "<style scoped>\n",
       "    .dataframe tbody tr th:only-of-type {\n",
       "        vertical-align: middle;\n",
       "    }\n",
       "\n",
       "    .dataframe tbody tr th {\n",
       "        vertical-align: top;\n",
       "    }\n",
       "\n",
       "    .dataframe thead th {\n",
       "        text-align: right;\n",
       "    }\n",
       "</style>\n",
       "<table border=\"1\" class=\"dataframe\">\n",
       "  <thead>\n",
       "    <tr style=\"text-align: right;\">\n",
       "      <th></th>\n",
       "      <th>asins</th>\n",
       "      <th>reviews.rating</th>\n",
       "    </tr>\n",
       "  </thead>\n",
       "  <tbody>\n",
       "    <tr>\n",
       "      <th>asins</th>\n",
       "      <td>1.000000</td>\n",
       "      <td>0.142988</td>\n",
       "    </tr>\n",
       "    <tr>\n",
       "      <th>reviews.rating</th>\n",
       "      <td>0.142988</td>\n",
       "      <td>1.000000</td>\n",
       "    </tr>\n",
       "  </tbody>\n",
       "</table>\n",
       "</div>"
      ],
      "text/plain": [
       "                   asins  reviews.rating\n",
       "asins           1.000000        0.142988\n",
       "reviews.rating  0.142988        1.000000"
      ]
     },
     "execution_count": 30,
     "metadata": {},
     "output_type": "execute_result"
    },
    {
     "data": {
      "image/png": "[encoded data removed]",
      "text/plain": [
       "<Figure size 432x288 with 1 Axes>"
      ]
     },
     "metadata": {
      "needs_background": "light"
     },
     "output_type": "display_data"
    }
   ],
   "source": [
    "plt.scatter(\"asins\", \"reviews.rating\", data=table)\n",
    "table.corr()"
   ]
  },
  {
   "cell_type": "markdown",
   "id": "e2cec19e-6396-49ee-b255-624e9618b7ee",
   "metadata": {},
   "source": [
    "* From our analysis in data exploration above between ASINs and reviews.rating, we discovered that there are many ASINs with low occurrence that have high variances, as a result we concluded that these low occurrence ASINs are not significant in our analysis given the low sample size.\n",
    "\n",
    "* Similarly in our correlation analysis between ASINs and reviews.rating, we see that there is almost no correlation which is consistent with our findings."
   ]
  },
  {
   "cell_type": "markdown",
   "id": "f077bf77-a740-442c-8743-64f6e83f8978",
   "metadata": {},
   "source": [
    "# 7. Sentiment Analysis "
   ]
  },
  {
   "cell_type": "markdown",
   "id": "6573ee05-6c1d-4ed9-b6b8-e05c33391bcc",
   "metadata": {},
   "source": [
    "Using the features in place, we will build a classifier that can determine a review's sentiment."
   ]
  },
  {
   "cell_type": "markdown",
   "id": "bf9406be-2a48-4af5-b826-1dcc7a042f17",
   "metadata": {},
   "source": [
    "## 7.1. Set Target Variable (Sentiments) "
   ]
  },
  {
   "cell_type": "markdown",
   "id": "412389bb-8b44-4318-8d0b-52ac22712b20",
   "metadata": {},
   "source": [
    "Segregating ratings from 1-5 into positive, neutral, and negative."
   ]
  },
  {
   "cell_type": "code",
   "execution_count": 31,
   "id": "cf329641-f64a-4f3b-9e96-2420ee666df2",
   "metadata": {},
   "outputs": [
    {
     "data": {
      "text/plain": [
       "30412    Positive\n",
       "19829    Positive\n",
       "20033    Positive\n",
       "16311    Positive\n",
       "13267    Positive\n",
       "15668    Positive\n",
       "25718    Positive\n",
       "6906      Neutral\n",
       "10887    Positive\n",
       "28660    Negative\n",
       "10055    Positive\n",
       "23500    Positive\n",
       "9758     Positive\n",
       "2949     Positive\n",
       "25392    Positive\n",
       "9024     Positive\n",
       "27743    Positive\n",
       "2602     Positive\n",
       "835      Positive\n",
       "29942    Positive\n",
       "Name: Sentiment, dtype: object"
      ]
     },
     "execution_count": 31,
     "metadata": {},
     "output_type": "execute_result"
    }
   ],
   "source": [
    "def sentiments(rating):\n",
    "    if (rating == 5) or (rating == 4):\n",
    "        return \"Positive\"\n",
    "    elif rating == 3:\n",
    "        return \"Neutral\"\n",
    "    elif (rating == 2) or (rating == 1):\n",
    "        return \"Negative\"\n",
    "# Adding sentiments to the data\n",
    "strat_train[\"Sentiment\"] = strat_train[\"reviews.rating\"].apply(sentiments)\n",
    "strat_test[\"Sentiment\"] = strat_test[\"reviews.rating\"].apply(sentiments)\n",
    "strat_train[\"Sentiment\"][:20]"
   ]
  },
  {
   "cell_type": "code",
   "execution_count": 32,
   "id": "1a8df771-c05f-4b6c-8276-2a3dfbc8356a",
   "metadata": {},
   "outputs": [
    {
     "name": "stdout",
     "output_type": "stream",
     "text": [
      "27701 6926\n"
     ]
    }
   ],
   "source": [
    "# Prepare data\n",
    "X_train = strat_train[\"reviews.text\"]\n",
    "X_train_targetSentiment = strat_train[\"Sentiment\"]\n",
    "X_test = strat_test[\"reviews.text\"]\n",
    "X_test_targetSentiment = strat_test[\"Sentiment\"]\n",
    "print(len(X_train), len(X_test))"
   ]
  },
  {
   "cell_type": "markdown",
   "id": "417ef0f8-a1ff-4620-892e-0e7cd73474dd",
   "metadata": {},
   "source": [
    "* There are 27,701 training samples and 6926 testing samples."
   ]
  },
  {
   "cell_type": "markdown",
   "id": "4a8b8eb3-0f7f-446f-ba14-592e2d018a51",
   "metadata": {},
   "source": [
    "### 7.1.2. Sentiment of a sentence from the reviews.text column"
   ]
  },
  {
   "cell_type": "code",
   "execution_count": 33,
   "id": "f87e8b85-d60f-4e8d-8de5-45a4163df10a",
   "metadata": {},
   "outputs": [
    {
     "name": "stdout",
     "output_type": "stream",
     "text": [
      "This product so far has not disappointed. My children love to use it and I like the ability to monitor control what content they see with ease.\n"
     ]
    }
   ],
   "source": [
    "Review_text = data['reviews.text'].values[0]\n",
    "print(Review_text)"
   ]
  },
  {
   "cell_type": "code",
   "execution_count": 34,
   "id": "56c170fb-8e90-4b38-bf61-449a77b9600d",
   "metadata": {},
   "outputs": [
    {
     "name": "stdout",
     "output_type": "stream",
     "text": [
      "Requirement already satisfied: textblob in c:\\users\\maram\\anaconda3\\lib\\site-packages (0.17.1)\n",
      "Requirement already satisfied: nltk>=3.1 in c:\\users\\maram\\anaconda3\\lib\\site-packages (from textblob) (3.6.5)\n",
      "Requirement already satisfied: click in c:\\users\\maram\\anaconda3\\lib\\site-packages (from nltk>=3.1->textblob) (8.0.3)\n",
      "Requirement already satisfied: joblib in c:\\users\\maram\\anaconda3\\lib\\site-packages (from nltk>=3.1->textblob) (1.1.0)\n",
      "Requirement already satisfied: regex>=2021.8.3 in c:\\users\\maram\\anaconda3\\lib\\site-packages (from nltk>=3.1->textblob) (2021.8.3)\n",
      "Requirement already satisfied: tqdm in c:\\users\\maram\\anaconda3\\lib\\site-packages (from nltk>=3.1->textblob) (4.62.3)\n",
      "Requirement already satisfied: colorama in c:\\users\\maram\\anaconda3\\lib\\site-packages (from click->nltk>=3.1->textblob) (0.4.4)\n",
      "Note: you may need to restart the kernel to use updated packages.\n"
     ]
    }
   ],
   "source": [
    "pip install textblob "
   ]
  },
  {
   "cell_type": "code",
   "execution_count": 35,
   "id": "44d0153f-1db9-42bb-8247-f75f7be0b330",
   "metadata": {},
   "outputs": [],
   "source": [
    "from textblob import TextBlob\n",
    "blob = TextBlob(Review_text)"
   ]
  },
  {
   "cell_type": "code",
   "execution_count": 36,
   "id": "db4a6c5d-a752-446a-81cf-2f9a12c59293",
   "metadata": {},
   "outputs": [
    {
     "data": {
      "text/plain": [
       "Sentiment(polarity=0.325, subjectivity=0.7833333333333333)"
      ]
     },
     "execution_count": 36,
     "metadata": {},
     "output_type": "execute_result"
    }
   ],
   "source": [
    "blob.sentiment"
   ]
  },
  {
   "cell_type": "markdown",
   "id": "d8178db4-c2ac-4521-b879-9465eb464e0a",
   "metadata": {},
   "source": [
    "* polarity is the sentiment — from -1.0 (negative) to 1.0 (positive) with 0.0 being neutral.\n",
    "* subjectivity is a value from 0.0 (objective) to 1.0 (subjective)."
   ]
  },
  {
   "cell_type": "markdown",
   "id": "685d17d6-6278-4f7a-8c4b-1792539c2dab",
   "metadata": {},
   "source": [
    "## 7.2 Extracting the Features"
   ]
  },
  {
   "cell_type": "markdown",
   "id": "c25f7a6b-71e3-4564-9cb7-6e2e69b311c4",
   "metadata": {},
   "source": [
    "Here we are converting the content into numerical feature vectors using the Bag of Words strategy:\n",
    "\n",
    "* Assigning fixed integer id to each word occurrence (integer indices to word occurrence dictionary).\n",
    "* X[i,j] where i is the integer indices, j is the word occurrence, and X is an array of words (our training set)."
   ]
  },
  {
   "cell_type": "markdown",
   "id": "2ce363a8-1b70-487e-9787-2f493c93a7af",
   "metadata": {},
   "source": [
    "In order to implement the Bag of Words strategy, we are using SciKit-Learn's CountVectorizer to performs the following:\n",
    "\n",
    "Text preprocessing:\n",
    "* Tokenization (breaking sentences into words)\n",
    "* Stopwords (filtering \"the\", \"are\", etc)\n",
    "* Occurrence counting (builds a dictionary of features from integer indices with word occurrences)\n",
    "* Feature Vector (converts the dictionary of text documents into a feature vector)"
   ]
  },
  {
   "cell_type": "code",
   "execution_count": 37,
   "id": "8205a7bb-4ed9-4b37-846f-ffdff046c18c",
   "metadata": {},
   "outputs": [
    {
     "data": {
      "text/plain": [
       "(27701, 12493)"
      ]
     },
     "execution_count": 37,
     "metadata": {},
     "output_type": "execute_result"
    }
   ],
   "source": [
    "# Replace \"nan\" with space\n",
    "X_train = X_train.fillna(' ')\n",
    "X_test = X_test.fillna(' ')\n",
    "X_train_targetSentiment = X_train_targetSentiment.fillna(' ')\n",
    "X_test_targetSentiment = X_test_targetSentiment.fillna(' ')\n",
    "\n",
    "# Text preprocessing and occurance counting\n",
    "from sklearn.feature_extraction.text import CountVectorizer \n",
    "count_vect = CountVectorizer()\n",
    "X_train_counts = count_vect.fit_transform(X_train) \n",
    "X_train_counts.shape"
   ]
  },
  {
   "cell_type": "markdown",
   "id": "07dee248-fc08-4295-b9cf-a9a24e902528",
   "metadata": {},
   "source": [
    "Here we have 27,701 training samples and 12,526 distinct words in our training sample.\n",
    "\n",
    "Also, with longer documents, we see higher average count values on words that carry very little meaning, this will overshadow shorter documents that have lower average counts with same frequencies, as a result, we are using TfidfTransformer to reduce this redundancy:\n",
    "\n",
    "* Term Frequencies (Tf) divides number of occurrences for each word by total number of words.\n",
    "* Term Frequencies times Inverse Document Frequency (Tfidf) downscales the weights of each word (assigns less value to unimportant stop words ie. \"the\", \"are\", etc)."
   ]
  },
  {
   "cell_type": "code",
   "execution_count": 38,
   "id": "656564f0-25c3-4a06-acc3-7df27c9dc5cb",
   "metadata": {},
   "outputs": [
    {
     "data": {
      "text/plain": [
       "(27701, 12493)"
      ]
     },
     "execution_count": 38,
     "metadata": {},
     "output_type": "execute_result"
    }
   ],
   "source": [
    "from sklearn.feature_extraction.text import TfidfTransformer\n",
    "tfidf_transformer = TfidfTransformer(use_idf=False)\n",
    "X_train_tfidf = tfidf_transformer.fit_transform(X_train_counts)\n",
    "X_train_tfidf.shape"
   ]
  },
  {
   "cell_type": "markdown",
   "id": "360169a8-e491-4232-904d-2833b741ab73",
   "metadata": {},
   "source": [
    "## 7.3. Multinominal Naive Bayes as Classifier for the Extracted Features"
   ]
  },
  {
   "cell_type": "markdown",
   "id": "b2ddebaf-952c-4938-b512-d8be443388ca",
   "metadata": {},
   "source": [
    "* Multinominal Niave Bayes is most suitable for word counts where data are typically represented as word vector counts (number of times outcome number X[i,j] is observed over the n trials), while also ignoring non-occurrences of a feature i.\n",
    "* Naive Bayes is a simplified version of Bayes Theorem, where all features are assumed conditioned independent to each other (the classifiers), P(x|y) where x is the feature and y is the classifier."
   ]
  },
  {
   "cell_type": "code",
   "execution_count": 39,
   "id": "e417fa92-e968-4360-af22-36454450c704",
   "metadata": {},
   "outputs": [
    {
     "data": {
      "text/plain": [
       "Pipeline(steps=[('vect', CountVectorizer()), ('tfidf', TfidfTransformer()),\n",
       "                ('clf_nominalNB', MultinomialNB())])"
      ]
     },
     "execution_count": 39,
     "metadata": {},
     "output_type": "execute_result"
    }
   ],
   "source": [
    "from sklearn.naive_bayes import MultinomialNB\n",
    "from sklearn.pipeline import Pipeline\n",
    "clf_multiNB_pipe = Pipeline([(\"vect\", CountVectorizer()), (\"tfidf\", TfidfTransformer()), (\"clf_nominalNB\", MultinomialNB())])\n",
    "clf_multiNB_pipe.fit(X_train, X_train_targetSentiment)"
   ]
  },
  {
   "cell_type": "markdown",
   "id": "40d2347c-a581-434c-abbd-df4964c60749",
   "metadata": {},
   "source": [
    "## 7.4.  Test Model"
   ]
  },
  {
   "cell_type": "code",
   "execution_count": 40,
   "id": "fa60dc69-ce1c-4fb6-ad80-2493dcddddad",
   "metadata": {},
   "outputs": [
    {
     "data": {
      "text/plain": [
       "0.937048801617095"
      ]
     },
     "execution_count": 40,
     "metadata": {},
     "output_type": "execute_result"
    }
   ],
   "source": [
    "import numpy as np\n",
    "predictedMultiNB = clf_multiNB_pipe.predict(X_test)\n",
    "np.mean(predictedMultiNB == X_test_targetSentiment)"
   ]
  },
  {
   "cell_type": "markdown",
   "id": "6e3786f6-74e8-4c07-ade0-2b491696f9ba",
   "metadata": {},
   "source": [
    "* Here we see that the Multinominal Naive Bayes Classifier has a 93.45% accuracy level based on the features."
   ]
  },
  {
   "cell_type": "markdown",
   "id": "2dca0acc-79a3-441f-9e8a-17d17d4a33d6",
   "metadata": {},
   "source": [
    "Next we do the following:\n",
    "* Test other models.\n",
    "* Fine tune the best models to avoid over-fitting."
   ]
  },
  {
   "cell_type": "markdown",
   "id": "ccbc9e8e-bcf0-466c-9d8e-9b278337e8af",
   "metadata": {},
   "source": [
    "## 7.5. Testing Other Models"
   ]
  },
  {
   "cell_type": "markdown",
   "id": "fa790b61-155c-4ac5-a036-aeb4668aa96a",
   "metadata": {},
   "source": [
    "<B> Logistic Regression Classifier </B>"
   ]
  },
  {
   "cell_type": "code",
   "execution_count": 41,
   "id": "4e0acbf3-cbfd-42cd-ae30-4030bcb02891",
   "metadata": {},
   "outputs": [
    {
     "data": {
      "text/plain": [
       "0.9392145538550389"
      ]
     },
     "execution_count": 41,
     "metadata": {},
     "output_type": "execute_result"
    }
   ],
   "source": [
    "from sklearn.linear_model import LogisticRegression\n",
    "from sklearn.pipeline import Pipeline\n",
    "clf_logReg_pipe = Pipeline([(\"vect\", CountVectorizer()), (\"tfidf\", TfidfTransformer()), (\"clf_logReg\", LogisticRegression())])\n",
    "clf_logReg_pipe.fit(X_train, X_train_targetSentiment)\n",
    "\n",
    "import numpy as np\n",
    "predictedLogReg = clf_logReg_pipe.predict(X_test)\n",
    "np.mean(predictedLogReg == X_test_targetSentiment)"
   ]
  },
  {
   "cell_type": "markdown",
   "id": "44002371-0766-40c7-b655-4ade014b86a2",
   "metadata": {},
   "source": [
    "<B> Support Vector Machine Classifier </B>"
   ]
  },
  {
   "cell_type": "code",
   "execution_count": 42,
   "id": "2705ef14-9be2-4ccf-9ea1-e7a2b67fc8cc",
   "metadata": {},
   "outputs": [
    {
     "data": {
      "text/plain": [
       "0.9382038694773318"
      ]
     },
     "execution_count": 42,
     "metadata": {},
     "output_type": "execute_result"
    }
   ],
   "source": [
    "from sklearn.svm import LinearSVC\n",
    "clf_linearSVC_pipe = Pipeline([(\"vect\", CountVectorizer()), (\"tfidf\", TfidfTransformer()), (\"clf_linearSVC\", LinearSVC())])\n",
    "clf_linearSVC_pipe.fit(X_train, X_train_targetSentiment)\n",
    "\n",
    "predictedLinearSVC = clf_linearSVC_pipe.predict(X_test)\n",
    "np.mean(predictedLinearSVC == X_test_targetSentiment)"
   ]
  },
  {
   "cell_type": "markdown",
   "id": "3c2eb7c8-cde7-40b4-86dd-84c7c2c457cf",
   "metadata": {},
   "source": [
    "<B> Random Forest Classifier </B>"
   ]
  },
  {
   "cell_type": "code",
   "execution_count": 43,
   "id": "ad26aa33-e901-4be0-8bc2-07d65082b86e",
   "metadata": {},
   "outputs": [
    {
     "data": {
      "text/plain": [
       "0.937770719029743"
      ]
     },
     "execution_count": 43,
     "metadata": {},
     "output_type": "execute_result"
    }
   ],
   "source": [
    "from sklearn.ensemble import RandomForestClassifier\n",
    "clf_randomForest_pipe = Pipeline([(\"vect\", CountVectorizer()), (\"tfidf\", TfidfTransformer()), (\"clf_randomForest\", RandomForestClassifier())])\n",
    "clf_randomForest_pipe.fit(X_train, X_train_targetSentiment)\n",
    "\n",
    "predictedRandomForest = clf_randomForest_pipe.predict(X_test)\n",
    "np.mean(predictedRandomForest == X_test_targetSentiment)"
   ]
  },
  {
   "cell_type": "markdown",
   "id": "9f0c6b02-12ec-456e-9215-79f8273df6f1",
   "metadata": {},
   "source": [
    "<B> Decision Tree Classifier </B>"
   ]
  },
  {
   "cell_type": "code",
   "execution_count": 44,
   "id": "e106483d-5ad7-454d-8711-cf8defafa7aa",
   "metadata": {},
   "outputs": [
    {
     "data": {
      "text/plain": [
       "0.9057175859081721"
      ]
     },
     "execution_count": 44,
     "metadata": {},
     "output_type": "execute_result"
    }
   ],
   "source": [
    "from sklearn.tree import DecisionTreeClassifier\n",
    "clf_decisionTree_pipe = Pipeline([(\"vect\", CountVectorizer()), \n",
    "                                  (\"tfidf\", TfidfTransformer()), \n",
    "                                  (\"clf_decisionTree\", DecisionTreeClassifier())])\n",
    "clf_decisionTree_pipe.fit(X_train, X_train_targetSentiment)\n",
    "\n",
    "predictedDecisionTree = clf_decisionTree_pipe.predict(X_test)\n",
    "np.mean(predictedDecisionTree == X_test_targetSentiment)"
   ]
  },
  {
   "cell_type": "markdown",
   "id": "cc0af888-5a55-404c-8697-c4e593c38714",
   "metadata": {},
   "source": [
    "* From the above it looks like all the models performed very well (as they are >90%).\n",
    "* But for our dataset the Support Vector Machine Classifier performed best since Support Vector Machines is very suitable for classification by measuring extreme values between classes, to differentiate the worst case scenarios so that it can classify between Positive, Neutral and Negative correctly."
   ]
  },
  {
   "cell_type": "markdown",
   "id": "3eaedbd4-22ae-43e0-bad5-d516f48c6fa9",
   "metadata": {},
   "source": [
    "## 7.6. Analysis of Support Vector Machine Classifier"
   ]
  },
  {
   "cell_type": "code",
   "execution_count": 45,
   "id": "b483e04c-4a7b-4fea-9937-f496810f1bb0",
   "metadata": {},
   "outputs": [
    {
     "name": "stdout",
     "output_type": "stream",
     "text": [
      "              precision    recall  f1-score   support\n",
      "\n",
      "                   0.00      0.00      0.00         7\n",
      "    Negative       0.52      0.23      0.31       151\n",
      "     Neutral       0.32      0.08      0.13       277\n",
      "    Positive       0.95      0.99      0.97      6491\n",
      "\n",
      "    accuracy                           0.94      6926\n",
      "   macro avg       0.45      0.33      0.35      6926\n",
      "weighted avg       0.91      0.94      0.92      6926\n",
      "\n",
      "Accuracy: 0.9382038694773318\n"
     ]
    }
   ],
   "source": [
    "from sklearn.metrics import classification_report\n",
    "from sklearn.metrics import accuracy_score\n",
    "\n",
    "print(classification_report(X_test_targetSentiment, \n",
    "                            predictedLinearSVC))\n",
    "print('Accuracy: {}'. format(accuracy_score(X_test_targetSentiment, \n",
    "                             predictedLinearSVC)))"
   ]
  },
  {
   "cell_type": "markdown",
   "id": "0a0921a6-1005-432d-879a-636bafbc6dc1",
   "metadata": {},
   "source": [
    "Summary of the classification report:\n",
    "\n",
    "* Precision: determines how many objects selected were correct.\n",
    "* Recall: tells you how many of the objects that should have been selected were actually selected.\n",
    "* F1 score measures the weights of recall and precision (1 means precision and recall are equally important, 0 otherwise).\n",
    "* Support is the number of occurrences of each class."
   ]
  },
  {
   "cell_type": "markdown",
   "id": "dc0e2a67-3edc-4bab-9f99-dd69f3db382a",
   "metadata": {},
   "source": [
    "* The results in this analysis confirms our previous data exploration analysis, where the data are very skewed to the positive reviews as shown by the lower support counts in the classification report.\n",
    "* Also, both neutral and negative reviews has large standard deviation with small frequencies, which we would not consider significant as shown by the lower precision, recall and F1 scores in the classification report."
   ]
  },
  {
   "cell_type": "markdown",
   "id": "775d46b9-ce52-42ad-b6a2-431515586b46",
   "metadata": {},
   "source": [
    "# 8. Conclusion\n",
    "\n",
    "In conclusion, although we need more data to balance out the lower rated products to consider their significance, however we were still able to successfully associate positive, neutral and negative sentiments for each product in Amazon’s Catalog.\n",
    "\n",
    "The data is a sample and is fairly normally distributed. The descriptive statistics do an adequate job describing the data. The average Product rating in amazon dataset is 4.5.\n",
    "\n",
    "Data visualization helped to communicate a data set clearly and effectively by using graphics and made it easy to comprehend data at a glance.\n",
    "\n",
    "Based on data visualization clearly we can recommend highest target (reviews.rating) of product to the users.\n",
    "\n",
    "The result of positively skewed dataset is consistent with both our data exploration and sentiment analysis. Therefore, we conclude that the products in this dataset are generally positively rated.\n",
    "\n",
    "Despite the skewed dataset, we were still able to build a robust Sentiment Analysis machine learning system to determine if the reviews are positive or negative. This is possible as the machine learning system was able to learn from all the positive, neutral and negative reviews."
   ]
  }
 ],
 "metadata": {
  "kernelspec": {
   "display_name": "Python 3 (ipykernel)",
   "language": "python",
   "name": "python3"
  },
  "language_info": {
   "codemirror_mode": {
    "name": "ipython",
    "version": 3
   },
   "file_extension": ".py",
   "mimetype": "text/x-python",
   "name": "python",
   "nbconvert_exporter": "python",
   "pygments_lexer": "ipython3",
   "version": "3.9.7"
  }
 },
 "nbformat": 4,
 "nbformat_minor": 5
}
